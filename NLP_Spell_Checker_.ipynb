{
  "cells": [
    {
      "cell_type": "markdown",
      "metadata": {
        "id": "6cxQUmm0rgug"
      },
      "source": [
        "Create a program that can identify spelling errors in a given text and suggest corrections."
      ]
    },
    {
      "cell_type": "markdown",
      "metadata": {
        "id": "xe5SXsW3sQsR"
      },
      "source": [
        "Using PyEnchant "
      ]
    },
    {
      "cell_type": "code",
      "execution_count": null,
      "metadata": {
        "colab": {
          "base_uri": "https://localhost:8080/"
        },
        "id": "Th2h-8HUb37P",
        "outputId": "92220b06-5eff-41a3-c940-28c1e4bb8cc9"
      },
      "outputs": [
        {
          "output_type": "stream",
          "name": "stdout",
          "text": [
            "Looking in indexes: https://pypi.org/simple, https://us-python.pkg.dev/colab-wheels/public/simple/\n",
            "Requirement already satisfied: pyenchant==3.2.2 in /usr/local/lib/python3.9/dist-packages (3.2.2)\n",
            "Found existing installation: enchant 0.0.1\n",
            "Uninstalling enchant-0.0.1:\n",
            "  Would remove:\n",
            "    /usr/local/lib/python3.9/dist-packages/enchant-0.0.1.dist-info/*\n",
            "    /usr/local/lib/python3.9/dist-packages/enchant/*\n",
            "  Would not remove (might be manually added):\n",
            "    /usr/local/lib/python3.9/dist-packages/enchant/_enchant.py\n",
            "    /usr/local/lib/python3.9/dist-packages/enchant/checker/CmdLineChecker.py\n",
            "    /usr/local/lib/python3.9/dist-packages/enchant/checker/GtkSpellCheckerDialog.py\n",
            "    /usr/local/lib/python3.9/dist-packages/enchant/checker/__init__.py\n",
            "    /usr/local/lib/python3.9/dist-packages/enchant/checker/wxSpellCheckerDialog.py\n",
            "    /usr/local/lib/python3.9/dist-packages/enchant/errors.py\n",
            "    /usr/local/lib/python3.9/dist-packages/enchant/pypwl.py\n",
            "    /usr/local/lib/python3.9/dist-packages/enchant/tokenize/__init__.py\n",
            "    /usr/local/lib/python3.9/dist-packages/enchant/tokenize/en.py\n",
            "    /usr/local/lib/python3.9/dist-packages/enchant/utils.py\n",
            "Proceed (Y/n)? Y\n",
            "  Successfully uninstalled enchant-0.0.1\n"
          ]
        }
      ],
      "source": [
        "!pip install pyenchant==3.2.2\n",
        "!pip uninstall enchant"
      ]
    },
    {
      "cell_type": "code",
      "execution_count": null,
      "metadata": {
        "colab": {
          "base_uri": "https://localhost:8080/",
          "height": 236
        },
        "id": "LSVcKQLlsYqx",
        "outputId": "42af129a-087e-4ed5-8f0f-e419a1f2ca9b"
      },
      "outputs": [
        {
          "output_type": "error",
          "ename": "AttributeError",
          "evalue": "ignored",
          "traceback": [
            "\u001b[0;31m---------------------------------------------------------------------------\u001b[0m",
            "\u001b[0;31mAttributeError\u001b[0m                            Traceback (most recent call last)",
            "\u001b[0;32m<ipython-input-19-17eec8acecc3>\u001b[0m in \u001b[0;36m<cell line: 4>\u001b[0;34m()\u001b[0m\n\u001b[1;32m      2\u001b[0m \u001b[0;34m\u001b[0m\u001b[0m\n\u001b[1;32m      3\u001b[0m \u001b[0;31m# create a dictionary object for English spell checking\u001b[0m\u001b[0;34m\u001b[0m\u001b[0;34m\u001b[0m\u001b[0m\n\u001b[0;32m----> 4\u001b[0;31m \u001b[0menglish_dict\u001b[0m \u001b[0;34m=\u001b[0m \u001b[0menchant\u001b[0m\u001b[0;34m.\u001b[0m\u001b[0mDict\u001b[0m\u001b[0;34m(\u001b[0m\u001b[0;34m\"en_US\"\u001b[0m\u001b[0;34m)\u001b[0m\u001b[0;34m\u001b[0m\u001b[0;34m\u001b[0m\u001b[0m\n\u001b[0m\u001b[1;32m      5\u001b[0m \u001b[0;34m\u001b[0m\u001b[0m\n\u001b[1;32m      6\u001b[0m \u001b[0;31m# function to identify spelling errors and suggest corrections\u001b[0m\u001b[0;34m\u001b[0m\u001b[0;34m\u001b[0m\u001b[0m\n",
            "\u001b[0;31mAttributeError\u001b[0m: module 'enchant' has no attribute 'Dict'"
          ]
        }
      ],
      "source": [
        "import enchant\n",
        "# create a dictionary object for English spell checking\n",
        "english_dict = enchant.Dict(\"en_US\")\n",
        "\n",
        "# function to identify spelling errors and suggest corrections\n",
        "def spell_check(text):\n",
        "    words = text.split()\n",
        "    corrected_text = []\n",
        "    for word in words:\n",
        "        if not english_dict.check(word):\n",
        "            suggestions = english_dict.suggest(word)\n",
        "            if suggestions:\n",
        "                corrected_text.append(suggestions[0])\n",
        "            else:\n",
        "                corrected_text.append(word)\n",
        "        else:\n",
        "            corrected_text.append(word)\n",
        "    return \" \".join(corrected_text)\n",
        "\n",
        "# example usage\n",
        "text = \"This sentnce has a spelllingg errror.\"\n",
        "corrected_text = spell_check(text)\n",
        "print(corrected_text)\n"
      ]
    },
    {
      "cell_type": "markdown",
      "metadata": {
        "id": "S0hcTNCPsVZ4"
      },
      "source": [
        "Using NLTK"
      ]
    },
    {
      "cell_type": "code",
      "execution_count": null,
      "metadata": {
        "colab": {
          "background_save": true,
          "base_uri": "https://localhost:8080/"
        },
        "id": "CvZ-x5XRscqw",
        "outputId": "996325f0-ba08-496e-b548-041d65c4efcc"
      },
      "outputs": [
        {
          "name": "stderr",
          "output_type": "stream",
          "text": [
            "[nltk_data] Downloading package words to /root/nltk_data...\n",
            "[nltk_data]   Unzipping corpora/words.zip.\n",
            "[nltk_data] Downloading package punkt to /root/nltk_data...\n",
            "[nltk_data]   Unzipping tokenizers/punkt.zip.\n"
          ]
        },
        {
          "name": "stdout",
          "output_type": "stream",
          "text": [
            "The sentence hask a spewing error .\n"
          ]
        }
      ],
      "source": [
        "import nltk\n",
        "from nltk.corpus import words\n",
        "nltk.download('words')\n",
        "nltk.download('punkt')\n",
        "# create a set of English words\n",
        "english_words = set(words.words())\n",
        "\n",
        "# function to identify spelling errors and suggest corrections\n",
        "def spell_check(text):\n",
        "    words = nltk.word_tokenize(text)\n",
        "    corrected_text = []\n",
        "    for word in words:\n",
        "        if word.lower() not in english_words and word.isalpha():\n",
        "            suggestions = []\n",
        "            for w in english_words:\n",
        "                if nltk.edit_distance(word, w) == 1:\n",
        "                    suggestions.append(w)\n",
        "            if suggestions:\n",
        "                corrected_text.append(suggestions[0])\n",
        "            else:\n",
        "                corrected_text.append(word)\n",
        "        else:\n",
        "            corrected_text.append(word)\n",
        "    return \" \".join(corrected_text)\n",
        "\n",
        "# example usage\n",
        "text = \"Ths sentnce has a speling errror.\"\n",
        "corrected_text = spell_check(text)\n",
        "print(corrected_text)\n"
      ]
    }
  ],
  "metadata": {
    "colab": {
      "provenance": []
    },
    "kernelspec": {
      "display_name": "Python 3",
      "name": "python3"
    },
    "language_info": {
      "name": "python"
    }
  },
  "nbformat": 4,
  "nbformat_minor": 0
}